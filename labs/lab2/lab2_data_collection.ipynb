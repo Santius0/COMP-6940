{
 "cells": [
  {
   "cell_type": "markdown",
   "source": [
    "# Data Collection\n",
    "In this lab we will take a quick look at some simple data collection techniques."
   ],
   "metadata": {
    "collapsed": false
   },
   "id": "c352ef47e0695d08"
  },
  {
   "cell_type": "markdown",
   "source": [
    "## Data Collection\n",
    "\n",
    "Ever thought about grabbing some cool data for your project? Sure, you could just download a ready-made dataset that fits your needs. But let's be real - sometimes, what you need is as unique as a unicorn in a field of horses.\n",
    "\n",
    "So, what do you do when the perfect dataset is playing hard to get? You have two awesome choices:\n",
    "\n",
    "1. **Become a Data Detective with APIs**: Think of an API as your personal data assistant. It's like saying, \"Hey API, can you fetch me some data?\" And voila, it gets the job done.\n",
    "\n",
    "2. **DIY Dataset Creation**: Roll up your sleeves and create your dataset masterpiece. How? By using techniques like web scraping or crawling for example. It's like going on a treasure hunt on the internet!"
   ],
   "metadata": {
    "collapsed": false
   },
   "id": "4b48003259aa4bec"
  },
  {
   "cell_type": "markdown",
   "source": [
    "### API\n",
    "Use “**The Movie DB**” API to:\n",
    "   1. Download data about movies.\n",
    "   2. Search for movies in the “Comedy” genre released in the year 2000 or later. Retrieve the 300 most popular movies in this genre. The movies should be sorted from most popular to least popular. Hint: Sorting based on popularity can be done in the API call.\n",
    "   3. For each comedy movie, download its first 5 similar movies. If a movie has fewer than 5 similar movies, the API will return as many as it can find. Your code should be flexible to work with however many movies the API returns.\n",
    "    \n",
    "For more information on retrieving movie data, visit the following The Movie DB API documentation pages:\n",
    "   - [Movie Discover](https://developers.themoviedb.org/3/discover/movie-discover)\n",
    "   - [Get Movie List](https://developers.themoviedb.org/3/genres/get-movie-list)\n",
    "   - [Get Similar Movies](https://developers.themoviedb.org/3/movies/get-similar-movies)\n",
    "\n",
    "#### Saving Results\n",
    "   - **File Format**: For the comedy movies, save the results in `movie_ID_name.csv`. For the comedy movies similar movies, save the results in `movie_ID_sim_movie_ID.csv`.\n",
    "   - **Format Specification**: For the comedy movies, each line should describe one movie in the format `movie-ID,movie-name` without any spaces after the comma and no column headers. <br/>**Example**: A line in the file could look like `353486,Jumanji: Welcome to the Jungle`.<br/> For the comedy movies' similar movies each line in the file should describe one pair of similar movies in the format `movie-ID,similar-movie-ID`, without any spaces after comma, and no column headers.<br/> **Example**: If `Jumanji: Welcome to the Jungle` which has ID, `353486` has 3 similar movies with IDs `A`, `B` and `C` respectively then the following lines should be added to `movie_ID_sim_movie_ID.csv`\n",
    "        - `353486,A`\n",
    "        - `353486,B`\n",
    "        - `353486,C`\n",
    "\n",
    "#### Notes\n",
    "   - **Multiple API Calls**: You may need to make multiple calls to retrieve all 300 movies, possibly retrieving them page by page due to pagination.\n",
    "   - **API Parameters**: Use the `primary_release_date` parameter for movies released in 2000 or later, instead of `release_date` to avoid incorrect returns.\n",
    "\n",
    "#### Deliverables\n",
    "   - **movie_ID_name.csv**: The text file that contains the output for 2.\n",
    "   - **movie_ID_sim_movie_ID.csv**: The text file that contains the output for 3.\n",
    "\n",
    "\n",
    "You will need an API key to get data from the TMDb. For the purposes of this lab we will simply include it in our notebook however you should **NOT** do this for anything other than personal projects saved locally. Best practice is to have the API key be inserted at runtime via a command line argument, environment variable etc."
   ],
   "metadata": {
    "collapsed": false
   },
   "id": "e21c24d798adcb08"
  },
  {
   "cell_type": "markdown",
   "source": [
    "#### How to Use TheMovieDB API\n",
    "- **Create an Account**: Sign up at [https://www.themoviedb.org/account/signup](https://www.themoviedb.org/account/signup).\n",
    "- **Request API Key**:\n",
    "  1. Log in and go to **Settings**.\n",
    "  2. Navigate to the **API** tab in the left panel.\n",
    "  3. Request an API key by selecting “Developer” and accepting the terms.\n",
    "  4. Fill out the form.\n",
    "  5. Your API key will be available under the API tab.\n",
    "\n",
    "##### Important Notes\n",
    "- **API Documentation**: Refer to [TheMovieDB API Documentation](https://developers.themoviedb.org/3/getting-started/introduction) for guidance.\n",
    "- **Rate Limiting**: The API allows 40 requests every 10 seconds. Set appropriate timeout intervals in your code.\n",
    "- **Variable Results**: The API may return different results for the same request. Plan your script's run time accordingly.\n"
   ],
   "metadata": {
    "collapsed": false
   },
   "id": "5b12ecb01a2b3120"
  },
  {
   "cell_type": "code",
   "outputs": [],
   "source": [
    "# !pip install requests beautifulsoup4 python-csv\n",
    "import requests\n",
    "import csv"
   ],
   "metadata": {
    "collapsed": false,
    "ExecuteTime": {
     "end_time": "2024-01-28T19:43:20.540602200Z",
     "start_time": "2024-01-28T19:43:20.453357800Z"
    }
   },
   "id": "efbdb0c617bdf10d",
   "execution_count": 1
  },
  {
   "cell_type": "code",
   "outputs": [],
   "source": [
    "api_key = 'YOUR_API_KEY' # Replace 'YOUR_API_KEY' with your actual API key\n",
    "base_url = 'https://api.themoviedb.org/3'"
   ],
   "metadata": {
    "collapsed": false,
    "ExecuteTime": {
     "end_time": "2024-01-28T19:43:20.549649400Z",
     "start_time": "2024-01-28T19:43:20.542089500Z"
    }
   },
   "id": "5e37d48890f4e5f4",
   "execution_count": 2
  },
  {
   "cell_type": "code",
   "outputs": [],
   "source": [
    "# your code here"
   ],
   "metadata": {
    "collapsed": false,
    "ExecuteTime": {
     "end_time": "2024-01-28T19:43:20.561027700Z",
     "start_time": "2024-01-28T19:43:20.547501100Z"
    }
   },
   "id": "1386d61eb6664268",
   "execution_count": 3
  },
  {
   "cell_type": "markdown",
   "source": [
    "## Web Scraping\n",
    "\n",
    "- **Target Website**: Our goal is to scrape job listings and their details from [Fake Jobs](https://realpython.github.io/fake-jobs/).\n",
    "- **Initial Step**: Start by opening the website in your browser to familiarize yourself with its layout and content.\n",
    "- **Understanding HTML Structure**:\n",
    "  - In Chrome, to understand the page's HTML structure, go to: \n",
    "    - `Options` -> `More Tools` -> `Developer Tools`.\n",
    "  - This will help in planning our scraping strategy effectively.\n"
   ],
   "metadata": {
    "collapsed": false
   },
   "id": "4a487e57c459fe29"
  },
  {
   "cell_type": "markdown",
   "source": [
    "Here, we set up our web scraping environment by importing necessary libraries and defining the URL of the website we want to scrape."
   ],
   "metadata": {
    "collapsed": false
   },
   "id": "418694439847ac96"
  },
  {
   "cell_type": "code",
   "outputs": [],
   "source": [
    "import requests\n",
    "from bs4 import BeautifulSoup\n",
    "\n",
    "URL = \"https://realpython.github.io/fake-jobs/\"\n",
    "page = requests.get(URL)\n",
    "soup = BeautifulSoup(page.content, \"html.parser\")"
   ],
   "metadata": {
    "collapsed": false,
    "ExecuteTime": {
     "end_time": "2024-01-28T19:43:21.351255300Z",
     "start_time": "2024-01-28T19:43:20.552861300Z"
    }
   },
   "id": "69df522c7b5e4dca",
   "execution_count": 4
  },
  {
   "cell_type": "code",
   "outputs": [],
   "source": [
    "# your code here"
   ],
   "metadata": {
    "collapsed": false,
    "ExecuteTime": {
     "end_time": "2024-01-28T19:43:21.358249100Z",
     "start_time": "2024-01-28T19:43:21.354023500Z"
    }
   },
   "id": "a901590a1b9507cf",
   "execution_count": 5
  }
 ],
 "metadata": {
  "kernelspec": {
   "display_name": "Python 3",
   "language": "python",
   "name": "python3"
  },
  "language_info": {
   "codemirror_mode": {
    "name": "ipython",
    "version": 2
   },
   "file_extension": ".py",
   "mimetype": "text/x-python",
   "name": "python",
   "nbconvert_exporter": "python",
   "pygments_lexer": "ipython2",
   "version": "2.7.6"
  }
 },
 "nbformat": 4,
 "nbformat_minor": 5
}
