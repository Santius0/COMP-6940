{
 "cells": [
  {
   "cell_type": "markdown",
   "metadata": {},
   "source": [
    "# Outlier Detection with IQR (Interquartile Range)\n",
    "\n",
    "## Objective\n",
    "The **Interquartile Range (IQR)** is a measure of statistical dispersion, representing the difference between the 75th and 25th percentiles. This method is widely used for detecting outliers as part of data preprocessing. The goal of this lab is to apply the IQR algorithm for outlier detection.\n",
    "\n",
    "## Prerequisites\n",
    "Before proceeding, ensure you have completed all the content in submodule 3.2, specifically the lecture slides on the IQR algorithm. Familiarity with these concepts is crucial for understanding and implementing the outlier detection technique described here.\n",
    "\n",
    "## IQR Algorithm for Outlier Detection\n",
    "Follow these steps to detect outliers using the IQR method:\n",
    "1. Arrange the data in ascending order.\n",
    "2. Calculate the first quartile (Q1).\n",
    "3. Calculate the third quartile (Q3).\n",
    "4. Compute the IQR as $\\(IQR = Q3 - Q1\\)$.\n",
    "5. Determine the lower bound $\\(T_{\\text{lower}} = Q1 - (1.5 \\times IQR)\\)$.\n",
    "6. Determine the upper bound $\\(T_{\\text{upper}} = Q3 + (1.5 \\times IQR)\\)$.\n",
    "7. Identify outliers. Data points outside the range $\\([T_{\\text{lower}}, T_{\\text{upper}}]\\)$ are considered outliers and should be filtered out.\n",
    "\n",
    "## Instructions\n",
    "- Implement the IQR algorithm using Python.\n",
    "- Apply the algorithm to detect and remove outliers from the \"LotArea\" attribute in the training dataset of the House Price Prediction. This data can be found in `train.csv' and can be downloaded [here](https://www.kaggle.com/c/house-prices-advanced-regression-techniques/overview).\n",
    "- Compare the original and preprocessed datasets by plotting their distributions. Use box plots for this comparison, following the examples provided in the [matplotlib boxplot demo](https://matplotlib.org/3.1.1/gallery/pyplots/boxplot_demo_pyplot.html#sphx-glr-gallery-pyplots-boxplot-demo-pyplot-py).\n",
    "\n",
    "This exercise will help you understand how to identify and remove outliers, improving the quality of your data for predictive modeling."
   ]
  },
  {
   "cell_type": "code",
   "execution_count": 1,
   "metadata": {
    "ExecuteTime": {
     "end_time": "2024-02-03T12:22:56.621371400Z",
     "start_time": "2024-02-03T12:22:56.590326600Z"
    }
   },
   "outputs": [],
   "source": [
    "# !pip install scikit-learn \n",
    "import pandas as pd\n",
    "import matplotlib.pyplot as plt"
   ]
  },
  {
   "cell_type": "markdown",
   "metadata": {},
   "source": [
    "### 1. Laod data form csv using pandas"
   ]
  },
  {
   "cell_type": "code",
   "execution_count": 2,
   "metadata": {
    "ExecuteTime": {
     "end_time": "2024-02-03T12:22:56.661637600Z",
     "start_time": "2024-02-03T12:22:56.612645900Z"
    }
   },
   "outputs": [],
   "source": [
    "data = pd.read_csv('train.csv')"
   ]
  },
  {
   "cell_type": "markdown",
   "metadata": {},
   "source": [
    "### Use describe to get overall statistics "
   ]
  },
  {
   "cell_type": "code",
   "execution_count": 3,
   "metadata": {
    "scrolled": false,
    "ExecuteTime": {
     "end_time": "2024-02-03T12:22:56.664850200Z",
     "start_time": "2024-02-03T12:22:56.654829500Z"
    }
   },
   "outputs": [],
   "source": [
    "# use describe function for all data here"
   ]
  },
  {
   "cell_type": "markdown",
   "metadata": {},
   "source": [
    "### 2. Use descirbe the determine the values Q1, Q2, and Q3 for LotArea"
   ]
  },
  {
   "cell_type": "code",
   "execution_count": 4,
   "metadata": {
    "scrolled": false,
    "ExecuteTime": {
     "end_time": "2024-02-03T12:22:56.689823700Z",
     "start_time": "2024-02-03T12:22:56.661637600Z"
    }
   },
   "outputs": [],
   "source": [
    "# use describe to determine Q1, Q2 and Q3 for LotArea here"
   ]
  },
  {
   "cell_type": "markdown",
   "metadata": {},
   "source": [
    "### Compute Q1, Q3 and IQR using the .quantile funciton "
   ]
  },
  {
   "cell_type": "code",
   "execution_count": 5,
   "metadata": {
    "ExecuteTime": {
     "end_time": "2024-02-03T12:22:56.737024300Z",
     "start_time": "2024-02-03T12:22:56.680026400Z"
    }
   },
   "outputs": [],
   "source": [
    "# code to compute Q1 and Q3 using quantile function here"
   ]
  },
  {
   "cell_type": "markdown",
   "metadata": {},
   "source": [
    "### Determine the upper and lower bounds. Any value outside of this will be outliners"
   ]
  },
  {
   "cell_type": "code",
   "execution_count": 6,
   "metadata": {
    "ExecuteTime": {
     "end_time": "2024-02-03T12:22:56.739263Z",
     "start_time": "2024-02-03T12:22:56.686821100Z"
    }
   },
   "outputs": [],
   "source": [
    "# code to determine upper and lower bounds here"
   ]
  },
  {
   "cell_type": "markdown",
   "metadata": {},
   "source": [
    "### 5. Find outliers\n",
    "Filter using upper and lower"
   ]
  },
  {
   "cell_type": "code",
   "execution_count": 7,
   "metadata": {
    "ExecuteTime": {
     "end_time": "2024-02-03T12:22:56.740430700Z",
     "start_time": "2024-02-03T12:22:56.695846400Z"
    }
   },
   "outputs": [],
   "source": [
    "# code to identify outliers here"
   ]
  },
  {
   "cell_type": "markdown",
   "metadata": {},
   "source": [
    "### 6. Remove the outliers. Drop rows that are not in the [lower, upper]"
   ]
  },
  {
   "cell_type": "code",
   "execution_count": 8,
   "metadata": {
    "ExecuteTime": {
     "end_time": "2024-02-03T12:22:56.758926900Z",
     "start_time": "2024-02-03T12:22:56.702359300Z"
    }
   },
   "outputs": [],
   "source": [
    "# code to remove outliers here"
   ]
  },
  {
   "cell_type": "markdown",
   "metadata": {},
   "source": [
    "### Compare the box plots"
   ]
  },
  {
   "cell_type": "markdown",
   "metadata": {},
   "source": [
    "#### Create a box plot with orginal data"
   ]
  },
  {
   "cell_type": "code",
   "execution_count": 10,
   "metadata": {
    "scrolled": true,
    "ExecuteTime": {
     "end_time": "2024-02-03T12:22:56.812254500Z",
     "start_time": "2024-02-03T12:22:56.718019500Z"
    }
   },
   "outputs": [],
   "source": [
    "# box plot code here"
   ]
  },
  {
   "cell_type": "markdown",
   "metadata": {},
   "source": [
    "#### Create a box plot with outliers removed"
   ]
  },
  {
   "cell_type": "code",
   "execution_count": 11,
   "metadata": {
    "ExecuteTime": {
     "end_time": "2024-02-03T12:22:56.813407900Z",
     "start_time": "2024-02-03T12:22:56.734135100Z"
    }
   },
   "outputs": [],
   "source": [
    "# outliers removed box plot code here"
   ]
  },
  {
   "cell_type": "markdown",
   "metadata": {},
   "source": [
    "### Comment on the differnces between both box plots"
   ]
  },
  {
   "cell_type": "code",
   "execution_count": 11,
   "metadata": {
    "ExecuteTime": {
     "end_time": "2024-02-03T12:22:56.814553200Z",
     "start_time": "2024-02-03T12:22:56.742560500Z"
    }
   },
   "outputs": [],
   "source": []
  },
  {
   "cell_type": "markdown",
   "source": [],
   "metadata": {
    "collapsed": false
   }
  }
 ],
 "metadata": {
  "kernelspec": {
   "display_name": "Python 3",
   "language": "python",
   "name": "python3"
  },
  "language_info": {
   "codemirror_mode": {
    "name": "ipython",
    "version": 3
   },
   "file_extension": ".py",
   "mimetype": "text/x-python",
   "name": "python",
   "nbconvert_exporter": "python",
   "pygments_lexer": "ipython3",
   "version": "3.8.5"
  }
 },
 "nbformat": 4,
 "nbformat_minor": 4
}
